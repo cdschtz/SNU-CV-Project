{
 "cells": [
  {
   "cell_type": "markdown",
   "metadata": {},
   "source": [
    "Info: Find reference here: https://github.com/ultralytics/yolov3"
   ]
  },
  {
   "cell_type": "markdown",
   "metadata": {},
   "source": [
    "### Preprocessing of video file (generate images)"
   ]
  },
  {
   "cell_type": "code",
   "execution_count": 1,
   "metadata": {},
   "outputs": [],
   "source": [
    "import cv2\n",
    "from pathlib import Path\n",
    "\n",
    "vidcap = cv2.VideoCapture('data/test_short_video.mov')\n",
    "\n",
    "success, image = vidcap.read()\n",
    "count = 0\n",
    "\n",
    "Path(\"./data/images\").mkdir(parents=True, exist_ok=True)\n",
    "while success:\n",
    "  # save frame as JPEG file in data/images folder\n",
    "  cv2.imwrite(f\"data/images/frame{count:03d}.jpg\", image)\n",
    "\n",
    "  success,image = vidcap.read()\n",
    "  count += 1"
   ]
  },
  {
   "cell_type": "markdown",
   "metadata": {},
   "source": [
    "### Perform ML Object Detection"
   ]
  },
  {
   "cell_type": "code",
   "execution_count": 2,
   "metadata": {},
   "outputs": [
    {
     "name": "stderr",
     "output_type": "stream",
     "text": [
      "/opt/anaconda3/envs/snu-cv-project/lib/python3.9/site-packages/tqdm/auto.py:22: TqdmWarning: IProgress not found. Please update jupyter and ipywidgets. See https://ipywidgets.readthedocs.io/en/stable/user_install.html\n",
      "  from .autonotebook import tqdm as notebook_tqdm\n"
     ]
    }
   ],
   "source": [
    "import torch"
   ]
  },
  {
   "cell_type": "code",
   "execution_count": 3,
   "metadata": {},
   "outputs": [
    {
     "name": "stderr",
     "output_type": "stream",
     "text": [
      "YOLOv5 🚀 2022-11-15 Python-3.9.13 torch-1.13.0 CPU\n",
      "\n",
      "Fusing layers... \n",
      "[W NNPACK.cpp:53] Could not initialize NNPACK! Reason: Unsupported hardware.\n",
      "YOLOv5n summary: 213 layers, 1867405 parameters, 0 gradients\n",
      "Adding AutoShape... \n"
     ]
    }
   ],
   "source": [
    "model = torch.hub.load('ultralytics/yolov5', 'yolov5n', verbose=False)"
   ]
  },
  {
   "cell_type": "code",
   "execution_count": 4,
   "metadata": {},
   "outputs": [
    {
     "name": "stderr",
     "output_type": "stream",
     "text": [
      "Saved 1 image to \u001b[1mruns/detect/exp\u001b[0m\n",
      "Saved 1 image to \u001b[1mruns/detect/exp2\u001b[0m\n",
      "Saved 1 image to \u001b[1mruns/detect/exp3\u001b[0m\n",
      "Saved 1 image to \u001b[1mruns/detect/exp4\u001b[0m\n",
      "Saved 1 image to \u001b[1mruns/detect/exp5\u001b[0m\n",
      "Saved 1 image to \u001b[1mruns/detect/exp6\u001b[0m\n",
      "Saved 1 image to \u001b[1mruns/detect/exp7\u001b[0m\n",
      "Saved 1 image to \u001b[1mruns/detect/exp8\u001b[0m\n",
      "Saved 1 image to \u001b[1mruns/detect/exp9\u001b[0m\n",
      "Saved 1 image to \u001b[1mruns/detect/exp10\u001b[0m\n",
      "Saved 1 image to \u001b[1mruns/detect/exp11\u001b[0m\n",
      "Saved 1 image to \u001b[1mruns/detect/exp12\u001b[0m\n",
      "Saved 1 image to \u001b[1mruns/detect/exp13\u001b[0m\n",
      "Saved 1 image to \u001b[1mruns/detect/exp14\u001b[0m\n",
      "Saved 1 image to \u001b[1mruns/detect/exp15\u001b[0m\n",
      "Saved 1 image to \u001b[1mruns/detect/exp16\u001b[0m\n",
      "Saved 1 image to \u001b[1mruns/detect/exp17\u001b[0m\n",
      "Saved 1 image to \u001b[1mruns/detect/exp18\u001b[0m\n",
      "Saved 1 image to \u001b[1mruns/detect/exp19\u001b[0m\n",
      "Saved 1 image to \u001b[1mruns/detect/exp20\u001b[0m\n",
      "Saved 1 image to \u001b[1mruns/detect/exp21\u001b[0m\n",
      "Saved 1 image to \u001b[1mruns/detect/exp22\u001b[0m\n",
      "Saved 1 image to \u001b[1mruns/detect/exp23\u001b[0m\n",
      "Saved 1 image to \u001b[1mruns/detect/exp24\u001b[0m\n",
      "Saved 1 image to \u001b[1mruns/detect/exp25\u001b[0m\n",
      "Saved 1 image to \u001b[1mruns/detect/exp26\u001b[0m\n",
      "Saved 1 image to \u001b[1mruns/detect/exp27\u001b[0m\n",
      "Saved 1 image to \u001b[1mruns/detect/exp28\u001b[0m\n",
      "Saved 1 image to \u001b[1mruns/detect/exp29\u001b[0m\n",
      "Saved 1 image to \u001b[1mruns/detect/exp30\u001b[0m\n",
      "Saved 1 image to \u001b[1mruns/detect/exp31\u001b[0m\n",
      "Saved 1 image to \u001b[1mruns/detect/exp32\u001b[0m\n",
      "Saved 1 image to \u001b[1mruns/detect/exp33\u001b[0m\n",
      "Saved 1 image to \u001b[1mruns/detect/exp34\u001b[0m\n",
      "Saved 1 image to \u001b[1mruns/detect/exp35\u001b[0m\n",
      "Saved 1 image to \u001b[1mruns/detect/exp36\u001b[0m\n",
      "Saved 1 image to \u001b[1mruns/detect/exp37\u001b[0m\n",
      "Saved 1 image to \u001b[1mruns/detect/exp38\u001b[0m\n",
      "Saved 1 image to \u001b[1mruns/detect/exp39\u001b[0m\n",
      "Saved 1 image to \u001b[1mruns/detect/exp40\u001b[0m\n",
      "Saved 1 image to \u001b[1mruns/detect/exp41\u001b[0m\n",
      "Saved 1 image to \u001b[1mruns/detect/exp42\u001b[0m\n",
      "Saved 1 image to \u001b[1mruns/detect/exp43\u001b[0m\n",
      "Saved 1 image to \u001b[1mruns/detect/exp44\u001b[0m\n",
      "Saved 1 image to \u001b[1mruns/detect/exp45\u001b[0m\n",
      "Saved 1 image to \u001b[1mruns/detect/exp46\u001b[0m\n",
      "Saved 1 image to \u001b[1mruns/detect/exp47\u001b[0m\n",
      "Saved 1 image to \u001b[1mruns/detect/exp48\u001b[0m\n",
      "Saved 1 image to \u001b[1mruns/detect/exp49\u001b[0m\n",
      "Saved 1 image to \u001b[1mruns/detect/exp50\u001b[0m\n",
      "Saved 1 image to \u001b[1mruns/detect/exp51\u001b[0m\n",
      "Saved 1 image to \u001b[1mruns/detect/exp52\u001b[0m\n",
      "Saved 1 image to \u001b[1mruns/detect/exp53\u001b[0m\n",
      "Saved 1 image to \u001b[1mruns/detect/exp54\u001b[0m\n",
      "Saved 1 image to \u001b[1mruns/detect/exp55\u001b[0m\n",
      "Saved 1 image to \u001b[1mruns/detect/exp56\u001b[0m\n",
      "Saved 1 image to \u001b[1mruns/detect/exp57\u001b[0m\n",
      "Saved 1 image to \u001b[1mruns/detect/exp58\u001b[0m\n",
      "Saved 1 image to \u001b[1mruns/detect/exp59\u001b[0m\n",
      "Saved 1 image to \u001b[1mruns/detect/exp60\u001b[0m\n",
      "Saved 1 image to \u001b[1mruns/detect/exp61\u001b[0m\n",
      "Saved 1 image to \u001b[1mruns/detect/exp62\u001b[0m\n",
      "Saved 1 image to \u001b[1mruns/detect/exp63\u001b[0m\n",
      "Saved 1 image to \u001b[1mruns/detect/exp64\u001b[0m\n",
      "Saved 1 image to \u001b[1mruns/detect/exp65\u001b[0m\n",
      "Saved 1 image to \u001b[1mruns/detect/exp66\u001b[0m\n",
      "Saved 1 image to \u001b[1mruns/detect/exp67\u001b[0m\n",
      "Saved 1 image to \u001b[1mruns/detect/exp68\u001b[0m\n",
      "Saved 1 image to \u001b[1mruns/detect/exp69\u001b[0m\n",
      "Saved 1 image to \u001b[1mruns/detect/exp70\u001b[0m\n",
      "Saved 1 image to \u001b[1mruns/detect/exp71\u001b[0m\n",
      "Saved 1 image to \u001b[1mruns/detect/exp72\u001b[0m\n",
      "Saved 1 image to \u001b[1mruns/detect/exp73\u001b[0m\n",
      "Saved 1 image to \u001b[1mruns/detect/exp74\u001b[0m\n",
      "Saved 1 image to \u001b[1mruns/detect/exp75\u001b[0m\n",
      "Saved 1 image to \u001b[1mruns/detect/exp76\u001b[0m\n",
      "Saved 1 image to \u001b[1mruns/detect/exp77\u001b[0m\n",
      "Saved 1 image to \u001b[1mruns/detect/exp78\u001b[0m\n",
      "Saved 1 image to \u001b[1mruns/detect/exp79\u001b[0m\n",
      "Saved 1 image to \u001b[1mruns/detect/exp80\u001b[0m\n",
      "Saved 1 image to \u001b[1mruns/detect/exp81\u001b[0m\n",
      "Saved 1 image to \u001b[1mruns/detect/exp82\u001b[0m\n",
      "Saved 1 image to \u001b[1mruns/detect/exp83\u001b[0m\n",
      "Saved 1 image to \u001b[1mruns/detect/exp84\u001b[0m\n",
      "Saved 1 image to \u001b[1mruns/detect/exp85\u001b[0m\n"
     ]
    }
   ],
   "source": [
    "from pathlib import Path\n",
    "\n",
    "# Perform detection on all images\n",
    "img_directory = './data/images' \n",
    "\n",
    "files = Path(img_directory).glob('*.jpg')\n",
    "count = 0\n",
    "\n",
    "for file in files:\n",
    "  result = model(file)\n",
    "  result.save(\"./results/images/prediction%d.jpg\" % count)\n",
    "  count += 1"
   ]
  },
  {
   "cell_type": "markdown",
   "metadata": {},
   "source": [
    "Re-organize files"
   ]
  },
  {
   "cell_type": "code",
   "execution_count": 5,
   "metadata": {},
   "outputs": [
    {
     "data": {
      "text/plain": [
       "0"
      ]
     },
     "execution_count": 5,
     "metadata": {},
     "output_type": "execute_result"
    }
   ],
   "source": [
    "import os\n",
    "Path(\"./results/images\").mkdir(parents=True, exist_ok=True)\n",
    "\n",
    "level_1 = \"./runs/detect\"\n",
    "\n",
    "for file in Path(level_1).glob('*'):\n",
    "  for file2 in Path(file).glob('*.jpg'):\n",
    "    os.system(\"mv %s %s\" % (file2, \"./results/images\"))\n",
    "\n",
    "os.system(\"rm -rf ./runs\")"
   ]
  },
  {
   "cell_type": "markdown",
   "metadata": {},
   "source": [
    "### Stitch back to video"
   ]
  },
  {
   "cell_type": "code",
   "execution_count": 6,
   "metadata": {},
   "outputs": [],
   "source": [
    "import cv2\n",
    "import numpy as np\n",
    "import glob\n",
    "\n",
    "img_array = []\n",
    "for filename in sorted(glob.glob('./results/images/*.jpg')):\n",
    "    img = cv2.imread(filename)\n",
    "    height, width, layers = img.shape\n",
    "    size = (width,height)\n",
    "    img_array.append(img)\n",
    "\n",
    "\n",
    "out = cv2.VideoWriter('./results/short_test_video.mp4', cv2.VideoWriter_fourcc('m', 'p', '4', 'v'), 30.0, size)\n",
    " \n",
    "for i in range(len(img_array)):\n",
    "    out.write(img_array[i])\n",
    "out.release()"
   ]
  }
 ],
 "metadata": {
  "kernelspec": {
   "display_name": "Python 3.9.13 ('snu-cv-project')",
   "language": "python",
   "name": "python3"
  },
  "language_info": {
   "codemirror_mode": {
    "name": "ipython",
    "version": 3
   },
   "file_extension": ".py",
   "mimetype": "text/x-python",
   "name": "python",
   "nbconvert_exporter": "python",
   "pygments_lexer": "ipython3",
   "version": "3.9.13"
  },
  "orig_nbformat": 4,
  "vscode": {
   "interpreter": {
    "hash": "00ef52872855e3efe7ee87e24c9a68892b2a14e2bd0c68c8ceea5047a966b431"
   }
  }
 },
 "nbformat": 4,
 "nbformat_minor": 2
}
